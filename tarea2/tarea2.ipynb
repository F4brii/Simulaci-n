{
  "nbformat": 4,
  "nbformat_minor": 0,
  "metadata": {
    "colab": {
      "name": "tarea2.ipynb",
      "provenance": [],
      "collapsed_sections": []
    },
    "kernelspec": {
      "name": "python3",
      "display_name": "Python 3"
    }
  },
  "cells": [
    {
      "cell_type": "markdown",
      "metadata": {
        "id": "VFNIvsRlkVPp",
        "colab_type": "text"
      },
      "source": [
        "Taller 2"
      ]
    },
    {
      "cell_type": "markdown",
      "metadata": {
        "id": "GCaYeQP5kWC_",
        "colab_type": "text"
      },
      "source": [
        "1. Implementar el método de la transformada inversa."
      ]
    },
    {
      "cell_type": "code",
      "metadata": {
        "id": "NadIeYTKkZXP",
        "colab_type": "code",
        "colab": {}
      },
      "source": [
        "from random import random\n",
        "\n",
        "#Recibe como parámetro la lista asociada a las probabilidades de cada uno de los eventos.\n",
        "def inverse_transform(lista):\n",
        "    aux = 0\n",
        "    i = 0\n",
        "    u = random()\n",
        "    while True:\n",
        "        if u < lista[i] + aux:\n",
        "            break\n",
        "        else:\n",
        "            aux = aux + lista[i]\n",
        "            i = i + 1\n",
        "    return i + 1\n",
        "\n",
        "listaprob = [.2, .2, .3, .15, .15]\n",
        "listacont = [0, 0, 0, 0, 0]\n",
        "\n",
        "for i in range(100000):\n",
        "    for i in range(len(listacont)):\n",
        "        if inverse_transform(listaprob) == i + 1:\n",
        "            listacont[i] = listacont[i] + 1\n",
        "print(\"lista de probabilidades: {}\".format(listaprob))\n",
        "print(\"Conteo de variables aleatorias de una muestra de 100.000: {}\".format(listacont))"
      ],
      "execution_count": 0,
      "outputs": []
    },
    {
      "cell_type": "markdown",
      "metadata": {
        "id": "tdJnJEdRkce2",
        "colab_type": "text"
      },
      "source": [
        "2. Implementar el método para la generación de v.a. Poisson (Sec. 4.2, Ross99)"
      ]
    },
    {
      "cell_type": "code",
      "metadata": {
        "id": "yk8Xyn_MkiI7",
        "colab_type": "code",
        "colab": {}
      },
      "source": [
        "\n",
        "#Recibe como parámetro el valor esperado\n",
        "def poisson(lambda_media):\n",
        "    i = 0\n",
        "    u = random()\n",
        "    p = exp(-lambda_media)\n",
        "    F = p\n",
        "    while True:\n",
        "        if u < F:\n",
        "            break\n",
        "        else:\n",
        "            p = (lambda_media * p) / (i + 1)\n",
        "            F = F + p\n",
        "            i = i + 1\n",
        "    return i\n",
        "\n",
        "media = 10\n",
        "lista_poisson = []\n",
        "for k in range(50):\n",
        "    lista_poisson.append(poisson(10))\n",
        "\n",
        "print(\"Lista de variables aleatorias con distribución poisson con media {}: {}\".format(media, lista_poisson))"
      ],
      "execution_count": 0,
      "outputs": []
    },
    {
      "cell_type": "markdown",
      "metadata": {
        "id": "2zrVmJQhkmje",
        "colab_type": "text"
      },
      "source": [
        "3. Implementar el método para la generación de v.a. Binomiales (Sec. 4.3, Ross99)"
      ]
    },
    {
      "cell_type": "code",
      "metadata": {
        "id": "LYGsiydZkpua",
        "colab_type": "code",
        "colab": {}
      },
      "source": [
        "Recibe como parámetro el número de intentos y la probabilidad de éxito asociada al evento\n",
        "def binomial(n, p):\n",
        "    u = random()\n",
        "    c = p / (1 - p)\n",
        "    i = 0\n",
        "    pr = (1 - p) ** n\n",
        "    F = pr\n",
        "    while True:\n",
        "        if u < F:\n",
        "            break\n",
        "        else:\n",
        "            pr = (c * (n - i) / (i + 1)) * pr\n",
        "            F = F + pr\n",
        "            i = i + 1\n",
        "    return i\n",
        "\n",
        "n = 40\n",
        "p = 0.5\n",
        "lista_binomial = []\n",
        "for i in range(50):\n",
        "    lista_binomial.append(binomial(n, p))\n",
        "print(\"Lista de variables aleatorias con distribución binomial ({},{}) : {}\".format(n, p, lista_binomial))"
      ],
      "execution_count": 0,
      "outputs": []
    },
    {
      "cell_type": "markdown",
      "metadata": {
        "id": "Ywy-gSAFks2X",
        "colab_type": "text"
      },
      "source": [
        "4. Implementar la técnica de aceptación y rechazo para la generación de v.a. Discretas (Sec. 4.4, Ross99)"
      ]
    },
    {
      "cell_type": "code",
      "metadata": {
        "id": "jLsELeW3kwX0",
        "colab_type": "code",
        "colab": {}
      },
      "source": [
        "def calcular_c(listap, listaq):\n",
        "    c = 0\n",
        "    for i in range(len(listaq)):\n",
        "        if c < listap[i] / listaq[i]:\n",
        "            c = listap[i] / listaq[i]\n",
        "    return c\n",
        "\n",
        "\n",
        "def operate_value(value, multiplier):\n",
        "    return int(multiplier * value)\n",
        "    \n",
        "\n",
        "def aceptacion_y_rechazo(listap, listaq):\n",
        "    resultado = []\n",
        "    for i in range(len(listap)):\n",
        "        y_simu = 1\n",
        "        u = 0\n",
        "        py = 0\n",
        "        qy = 1\n",
        "        c = 1\n",
        "        while(u > py / (c * qy)):\n",
        "            y_simu = operate_value(listaq[i], len(listap))\n",
        "            U1 = random()\n",
        "            py = list_p[y_simu]\n",
        "            qy = list_q[y_simu]\n",
        "            c = calcular_c(listap, listaq)\n",
        "        \n",
        "        key = \"X{}\".format(i + 1)\n",
        "        resultado.append((key, y_simu))\n",
        "    return resultado\n",
        "\n",
        "listap = [.333, .333, .333]\n",
        "listaq = [.2, .5, .3]\n",
        "for i in aceptacion_y_rechazo(listap, listaq):\n",
        "    print(i)\n",
        "\n",
        "#('X_1', 1)"
      ],
      "execution_count": 0,
      "outputs": []
    },
    {
      "cell_type": "markdown",
      "metadata": {
        "id": "tgjxjJwIk56D",
        "colab_type": "text"
      },
      "source": [
        "5. Implementar el método de composición para la generación de v.a. Discretas (Sec. 4.4, Ross99)"
      ]
    },
    {
      "cell_type": "code",
      "metadata": {
        "id": "mEfPU6Z5k61Z",
        "colab_type": "code",
        "colab": {}
      },
      "source": [
        "ef composicion():\n",
        "    u = random()\n",
        "    v = random()\n",
        "    \n",
        "    result = []\n",
        "    if(u < 0.5):\n",
        "        result.append((\"X\", int(10 * v)))\n",
        "    else:\n",
        "        result.append((\"X\", int(5 * v) + 6))\n",
        "    return result\n",
        "\n",
        "for j in range(20):\n",
        "    for i in composicion():\n",
        "        print(i)"
      ],
      "execution_count": 0,
      "outputs": []
    },
    {
      "cell_type": "markdown",
      "metadata": {
        "id": "ZNWdOrsRk82k",
        "colab_type": "text"
      },
      "source": [
        "6. Ejercicios 1, 3, 4, 7 (Cap. 4, Ross99)¶"
      ]
    },
    {
      "cell_type": "markdown",
      "metadata": {
        "id": "Ln1w5FBglAPQ",
        "colab_type": "text"
      },
      "source": [
        "Ejercicio 1\n",
        "Escriba un programa para generar n valores a partir de la funcion de masa de probabilidad p1 = 1/3, p2 = 2/3\n",
        "(a) Sea n = 100 ejecute el programa y determine la proporcion de valores que sean iguales a 1.\n",
        "(b) Repita (a) con n = 1000\n",
        "(c) Repita (a) con n = 10000"
      ]
    },
    {
      "cell_type": "code",
      "metadata": {
        "id": "2YgGJcx0lCcx",
        "colab_type": "code",
        "colab": {}
      },
      "source": [
        "def ejercicio_1():\n",
        "  dist = [1 / 3, 2 / 3]\n",
        "  cont = [0, 0, 0]\n",
        "  for i in range(3):\n",
        "    for j in range(10**(i + 2)):\n",
        "      if inverse_transform(dist) == 1:\n",
        "        cont[i] = cont[i] + 1\n",
        "    print(\"Proporcion de veces que se genera 1 con n = {}: {}\".format(10**(i + 2), cont[i] / 10**(i + 2)))\n",
        "\n",
        "\n",
        "ejercicio_1()"
      ],
      "execution_count": 0,
      "outputs": []
    },
    {
      "cell_type": "markdown",
      "metadata": {
        "id": "uATtFoNglEY5",
        "colab_type": "text"
      },
      "source": [
        "\n",
        "Proporcion de veces que se genera 1 con n = 100: 0.33\n",
        "Proporcion de veces que se genera 1 con n = 1000: 0.336\n",
        "Proporcion de veces que se genera 1 con n = 10000: 0.3339"
      ]
    },
    {
      "cell_type": "markdown",
      "metadata": {
        "id": "Kn32LEHclHY_",
        "colab_type": "text"
      },
      "source": [
        "Ejercicio 3\n",
        "Dé un algoritmo eficiente para simular el valor de una variable aleatoria X tal que:\n",
        "P{X = 1} = 0.3 , P{X = 2} = 0.2, P{X = 3} = 0.35, P{X = 4} = 0.15"
      ]
    },
    {
      "cell_type": "code",
      "metadata": {
        "id": "qU8wcUBwlKFp",
        "colab_type": "code",
        "colab": {}
      },
      "source": [
        "def  ejercicio_3():\n",
        "    dist = [.3, .2, .35, .15]\n",
        "    cont = [0, 0, 0, 0]    \n",
        "    for i in range(10000):\n",
        "        for j in range(len(dist)):\n",
        "            if (inverse_transform(dist) == j + 1):\n",
        "                cont[j] = cont[j] + 1\n",
        "    return cont\n",
        "\n",
        "\n",
        "print(\"Distribución de las variables aleatorias de una muestra de 10000: {}\".format(ejercicio_3()))"
      ],
      "execution_count": 0,
      "outputs": []
    },
    {
      "cell_type": "markdown",
      "metadata": {
        "id": "Wdhxb_7MlNHB",
        "colab_type": "text"
      },
      "source": [
        "Distribución de las variables aleatorias de una muestra de 10000: [3019, 2087, 3610, 1556]"
      ]
    },
    {
      "cell_type": "markdown",
      "metadata": {
        "id": "N59XDLfElQvG",
        "colab_type": "text"
      },
      "source": [
        "Ejercicio 7\n",
        "Se lanza de manera continua un par de dados legales, hasta que todos los posibles resultados 2, 3, ..., 12 hayan aparecido al menos una vez. Desarrolle un estudio de simulación para estimar el número esperado de lanzamientos."
      ]
    },
    {
      "cell_type": "code",
      "metadata": {
        "id": "Vpqp95nrlUAH",
        "colab_type": "code",
        "colab": {}
      },
      "source": [
        "def ejercicio_7():\n",
        "    dist = [1 / 36, 2 / 36, 3 / 36, 4 / 36, 5 / 36, 6 / 36, 5 / 36, 4 / 36, 3 / 36, 2 / 36, 1 / 36]\n",
        "    lista = []\n",
        "    cont = 0\n",
        "    aux = 0\n",
        "    while True:\n",
        "        aux = inverse_transform(dist) + 1\n",
        "        if aux not in lista:\n",
        "            lista.append(aux)\n",
        "        if len(lista) == len(dist):\n",
        "            break\n",
        "        cont += 1\n",
        "    return cont\n",
        "\n",
        "\n",
        "avg = 0\n",
        "for i in range(1000):\n",
        "    avg = avg + ejercicio_7()\n",
        "print(\"Estimado de ensayos necesarios de una muestra de 1000: {}\".format(avg / 1000))"
      ],
      "execution_count": 0,
      "outputs": []
    },
    {
      "cell_type": "markdown",
      "metadata": {
        "id": "RN_7IjzLlWzh",
        "colab_type": "text"
      },
      "source": [
        "Estimado de ensayos necesarios de una muestra de 1000: 61.265"
      ]
    }
  ]
}