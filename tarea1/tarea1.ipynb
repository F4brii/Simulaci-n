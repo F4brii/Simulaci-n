{
  "nbformat": 4,
  "nbformat_minor": 0,
  "metadata": {
    "colab": {
      "name": "tarea1.ipynb",
      "provenance": [],
      "collapsed_sections": []
    },
    "kernelspec": {
      "name": "python3",
      "display_name": "Python 3"
    }
  },
  "cells": [
    {
      "cell_type": "markdown",
      "metadata": {
        "id": "jGFykHDXjFtM",
        "colab_type": "text"
      },
      "source": [
        "Funciones implementadas.\n"
      ]
    },
    {
      "cell_type": "code",
      "metadata": {
        "id": "Nf50lz8NjHi2",
        "colab_type": "code",
        "colab": {}
      },
      "source": [
        "from math import log10\n",
        "from math import floor\n",
        "\n",
        "\n",
        "def midsquare(x, n):\n",
        "    x = x * x\n",
        "    x = floor(x / (10 ** n))\n",
        "    x = x % (10 ** (2 * n))\n",
        "    return x\n",
        "\n",
        "\n",
        "def lcg(x, a, c, modulo):\n",
        "    return (a * x + c) % modulo\n",
        "\n",
        "\n",
        "def calcular_periodo_midsquare(x):\n",
        "    lista = []\n",
        "    n = floor((log10(x) + 1) / 2)\n",
        "    while True:\n",
        "        x = midsquare(x, n)\n",
        "        if x in lista:\n",
        "            break\n",
        "        else:\n",
        "            lista.append(x)\n",
        "    return len(lista)\n",
        "\n",
        "\n",
        "def calcular_periodo_lcg(x, a, c, modulo):\n",
        "    lista = []\n",
        "    while True:\n",
        "        x = lcg(x, a, c, modulo)\n",
        "        if x in lista:\n",
        "            break\n",
        "        else:\n",
        "            lista.append(x)\n",
        "    return len(lista)"
      ],
      "execution_count": 0,
      "outputs": []
    },
    {
      "cell_type": "markdown",
      "metadata": {
        "id": "sRm6yOx0jXMD",
        "colab_type": "text"
      },
      "source": [
        "1. Método de Cuadrados Medios para generación de números aleatorios"
      ]
    },
    {
      "cell_type": "code",
      "metadata": {
        "id": "ty1CC2SbjYB0",
        "colab_type": "code",
        "colab": {
          "base_uri": "https://localhost:8080/",
          "height": 391
        },
        "outputId": "9fad82ea-4061-4b8b-c6f7-3212653345b8"
      },
      "source": [
        "seed = int(input(\"Semilla x0 (2N dígitos): \"))\n",
        "amount = int(input(\"Cantidad de números aleatorios a generar: \"))\n",
        "n = floor((log10(seed) + 1) / 2)\n",
        "for i in range(amount):\n",
        "    print(\"x\" + str(i+1) + \": \" + str(midsquare(seed, n)))\n",
        "    print(\"u\" + str(i+1) + \": \" + str(midsquare(seed, n) / (10 ** (2 * n))))\n",
        "    seed = midsquare(seed, n)"
      ],
      "execution_count": 3,
      "outputs": [
        {
          "output_type": "stream",
          "text": [
            "Semilla x0 (2N dígitos): 12\n",
            "Cantidad de números aleatorios a generar: 10\n",
            "x1: 14\n",
            "u1: 0.14\n",
            "x2: 19\n",
            "u2: 0.19\n",
            "x3: 36\n",
            "u3: 0.36\n",
            "x4: 29\n",
            "u4: 0.29\n",
            "x5: 84\n",
            "u5: 0.84\n",
            "x6: 5\n",
            "u6: 0.05\n",
            "x7: 2\n",
            "u7: 0.02\n",
            "x8: 0\n",
            "u8: 0.0\n",
            "x9: 0\n",
            "u9: 0.0\n",
            "x10: 0\n",
            "u10: 0.0\n"
          ],
          "name": "stdout"
        }
      ]
    },
    {
      "cell_type": "markdown",
      "metadata": {
        "id": "PCmLLTYzjexj",
        "colab_type": "text"
      },
      "source": [
        "2. Generador Congruencial Mixto para generación de números aleatorios"
      ]
    },
    {
      "cell_type": "code",
      "metadata": {
        "id": "D5QSpBFbjjxA",
        "colab_type": "code",
        "colab": {
          "base_uri": "https://localhost:8080/",
          "height": 442
        },
        "outputId": "481bc6be-dfe5-4dd3-8ea3-7ff4e1790f5a"
      },
      "source": [
        "seed = int(input(\"Semilla: \"))\n",
        "n = int(input(\"Número de variables a generar: \"))\n",
        "a = int(input(\"Factor multiplicador: \"))\n",
        "c = int(input(\"Factor incremento:  \"))\n",
        "modulo = int(input(\"Módulo: \"))\n",
        "for i in range(n):\n",
        "    x = lcg(seed, a, c, modulo)\n",
        "    print(\"Número aleatorio: \" + str(x))\n",
        "    print(\"Variable aleatoria: \" + str(x/modulo))\n",
        "    seed = x"
      ],
      "execution_count": 4,
      "outputs": [
        {
          "output_type": "stream",
          "text": [
            "Semilla: 10\n",
            "Número de variables a generar: 10\n",
            "Factor multiplicador: 10\n",
            "Factor incremento:  10\n",
            "Módulo: 1\n",
            "Número aleatorio: 0\n",
            "Variable aleatoria: 0.0\n",
            "Número aleatorio: 0\n",
            "Variable aleatoria: 0.0\n",
            "Número aleatorio: 0\n",
            "Variable aleatoria: 0.0\n",
            "Número aleatorio: 0\n",
            "Variable aleatoria: 0.0\n",
            "Número aleatorio: 0\n",
            "Variable aleatoria: 0.0\n",
            "Número aleatorio: 0\n",
            "Variable aleatoria: 0.0\n",
            "Número aleatorio: 0\n",
            "Variable aleatoria: 0.0\n",
            "Número aleatorio: 0\n",
            "Variable aleatoria: 0.0\n",
            "Número aleatorio: 0\n",
            "Variable aleatoria: 0.0\n",
            "Número aleatorio: 0\n",
            "Variable aleatoria: 0.0\n"
          ],
          "name": "stdout"
        }
      ]
    },
    {
      "cell_type": "markdown",
      "metadata": {
        "id": "9fg9vU_ojxIa",
        "colab_type": "text"
      },
      "source": [
        "Implementar una función para calcular el período de cualquier generador de números pseudoaleatorios."
      ]
    },
    {
      "cell_type": "code",
      "metadata": {
        "id": "NfdNKHjQjx6x",
        "colab_type": "code",
        "colab": {}
      },
      "source": [
        "periodo = calcular_periodo_midsquare(int(input(\"Semilla para el método Midsquare: \")))\n",
        "print(\"El periodo es \" + str(periodo))"
      ],
      "execution_count": 0,
      "outputs": []
    },
    {
      "cell_type": "markdown",
      "metadata": {
        "id": "wi_bKPb0j2h0",
        "colab_type": "text"
      },
      "source": [
        "Semilla para el método Midsquare: 1212\n",
        "El periodo es 54"
      ]
    },
    {
      "cell_type": "code",
      "metadata": {
        "id": "CVAf0mS_j48_",
        "colab_type": "code",
        "colab": {}
      },
      "source": [
        "x = int(input(\"Semilla: \"))\n",
        "a = int(input(\"Factor multiplicador: \"))\n",
        "c = int(input(\"Factor incremento:  \"))\n",
        "modulo = int(input(\"Modulo: \"))\n",
        "periodo = calcular_periodo_lcg(x, a, c, modulo)\n",
        "print(\"El periodo es \" + str(periodo))"
      ],
      "execution_count": 0,
      "outputs": []
    }
  ]
}