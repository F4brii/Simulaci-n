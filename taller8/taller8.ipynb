{
  "nbformat": 4,
  "nbformat_minor": 0,
  "metadata": {
    "colab": {
      "name": "taller8.ipynb",
      "provenance": []
    },
    "kernelspec": {
      "name": "python3",
      "display_name": "Python 3"
    }
  },
  "cells": [
    {
      "cell_type": "code",
      "metadata": {
        "id": "myBjrczt_784",
        "colab_type": "code",
        "colab": {}
      },
      "source": [
        "import math\n",
        "from datetime import datetime\n",
        "\n",
        "class taller_8():\n",
        "        M = 99999\n",
        "        T = 100\n",
        "        t = 0\n",
        "        NLL = 0\n",
        "        NS = 0\n",
        "        n = 0\n",
        "        TSuc = {\"tLL\" : M, \"tS\" : M}\n",
        "        LL = [0]\n",
        "        S = [0]\n",
        "        Serv = [0]\n",
        "        x0_borlandgen = 0\n",
        "        x0_randugen = 0\n",
        "        n_clientes = []\n",
        "\n",
        "        def borlandgen(self):\n",
        "            a = 22695477\n",
        "            c = 1\n",
        "            m = 2**32\n",
        "            xi = (a * self.x0_borlandgen + c) % m\n",
        "            self.x0_borlandgen = xi\n",
        "            u = xi / m\n",
        "            return u\n",
        "\n",
        "        def randugen(self):\n",
        "            a = 65539\n",
        "            c = 0\n",
        "            m = 2**31\n",
        "            xi = (a * self.x0_randugen + c) % m\n",
        "            self.x0_randugen = xi\n",
        "            u = xi / m\n",
        "            return u\n",
        "          \n",
        "        def reset(self):\n",
        "            self.M = 99999\n",
        "            self.T = 100\n",
        "            self.t = 0\n",
        "            self.NLL = 0\n",
        "            self.NS = 0\n",
        "            self.n = 0\n",
        "            self.TSuc = {\"tLL\" : self.M, \"tS\" : self.M}\n",
        "            self.LL = [0]\n",
        "            self.S = [0]\n",
        "            self.Serv = [0]\n",
        "            self.x0_borlandgen = datetime.now().microsecond\n",
        "            self.x0_randugen = datetime.now().microsecond\n",
        "            self.n_clientes = []\n",
        "\n",
        "        def exponencial1(self):\n",
        "            u = self.borlandgen()\n",
        "            x = -(math.log(1-u))/float(3)\n",
        "            return x\n",
        "\n",
        "        def exponencial2(self):\n",
        "            u = self.randugen()\n",
        "            y = -(math.log(1-u))/float(7)\n",
        "            return y\n",
        "\n",
        "        def iniciar_simulacion(self):\n",
        "            self.reset()\n",
        "            X = self.exponencial1()\n",
        "            if X > self.T:\n",
        "                Tp = t_med_sistema =  t_med_cola = 0\n",
        "            else:\n",
        "                self.llegada(X)\n",
        "                while (self.TSuc[\"tLL\"] != self.M) or (self.TSuc[\"tS\"] != self.M):\n",
        "                    if self.TSuc[\"tLL\"] < self.TSuc[\"tS\"]:\n",
        "                        tsuc = self.TSuc[\"tLL\"]\n",
        "                        self.TSuc[\"tLL\"] = self.M\n",
        "                        self.llegada(tsuc)\n",
        "                        \n",
        "                    if self.TSuc[\"tS\"] < self.TSuc[\"tLL\"]:\n",
        "                        tsuc = self.TSuc[\"tS\"]\n",
        "                        self.TSuc[\"tS\"] = self.M\n",
        "                        self.servidor(tsuc)\n",
        "                Tp =  max(0, (self.t - self.T))\n",
        "                acumulo1 = acumulo2 = 0\n",
        "                ind = 0\n",
        "                while ind < self.NLL:\n",
        "                    acumulo1 = acumulo1 + self.S[ind] - self.LL[ind]\n",
        "                    acumulo2 = acumulo2 + self.S[ind] - self.LL[ind] - self.Serv[ind]\n",
        "                    ind += 1\n",
        "                t_med_sistema = acumulo1/self.NLL\n",
        "                t_med_cola = acumulo2/self.NLL\n",
        "            return t_med_cola\n",
        "            \n",
        "                \n",
        "        def llegada(self, tsuc):\n",
        "            self.t = tsuc\n",
        "            self.n += 1\n",
        "            self.n_clientes.append(self.n)\n",
        "            self.NLL += 1\n",
        "            self.LL.insert(self.NLL, self.t)\n",
        "            X = self.exponencial1()\n",
        "            if (self.t + X) < self.T:\n",
        "                self.TSuc[\"tLL\"] = self.t + X\n",
        "            if self.n == 1:\n",
        "                Y = self.exponencial2()\n",
        "                self.TSuc[\"tS\"] = self.t + Y\n",
        "                self.Serv.insert((self.NS-1), Y)\n",
        "        \n",
        "        def servidor(self, tsuc):\n",
        "            self.t = tsuc\n",
        "            self.n -= 1\n",
        "            self.n_clientes.append(self.n)\n",
        "            self.NS += 1\n",
        "            self.S.insert(self.NS, self.t)\n",
        "            if self.n > 0:\n",
        "                Y = self.exponencial2()\n",
        "                self.TSuc[\"tS\"] = self.t + Y\n",
        "                self.Serv.insert(self.NS, Y)"
      ],
      "execution_count": 0,
      "outputs": []
    },
    {
      "cell_type": "code",
      "metadata": {
        "id": "mpp40Ie7ABdl",
        "colab_type": "code",
        "colab": {}
      },
      "source": [
        "def varianza(x):\n",
        "  x_prom = [x[0]]\n",
        "  x_var = [0]\n",
        "  for j in range(len(x)-1):\n",
        "    xj_prom =  x_prom[j] + ((x[j+1] - x_prom[j])/(j + 2))\n",
        "    x_prom.append(xj_prom)\n",
        "    xj_var =  ((1-(1/(j+1)))*x_var[j]) + ((j+2)*((x_prom[j+1]-x_prom[j])**2))\n",
        "    x_var.append(xj_var)\n",
        "  return {\"promedio\": x_prom[-1], \"varianza\": x_var[-1]}"
      ],
      "execution_count": 0,
      "outputs": []
    },
    {
      "cell_type": "code",
      "metadata": {
        "id": "jv6I6W2zAHWT",
        "colab_type": "code",
        "colab": {
          "base_uri": "https://localhost:8080/",
          "height": 68
        },
        "outputId": "3fc854a8-c17e-4b0a-8ca1-16019e94eabf"
      },
      "source": [
        "X = []\n",
        "k = 100\n",
        "cola_obj = taller_8()\n",
        "for i in range(k):\n",
        "  t_med_cola = cola_obj.iniciar_simulacion()\n",
        "  X.append(t_med_cola)\n",
        "resultado = varianza(X)\n",
        "print(\"K = \", k)\n",
        "print(\"Promedio = \", resultado[\"promedio\"])\n",
        "print(\"Varianza = \", resultado[\"varianza\"])"
      ],
      "execution_count": 4,
      "outputs": [
        {
          "output_type": "stream",
          "text": [
            "K =  100\n",
            "Promedio =  0.10316580993421984\n",
            "Varianza =  0.0007850404456573699\n"
          ],
          "name": "stdout"
        }
      ]
    },
    {
      "cell_type": "code",
      "metadata": {
        "id": "OTzuR-r9AKtz",
        "colab_type": "code",
        "colab": {
          "base_uri": "https://localhost:8080/",
          "height": 68
        },
        "outputId": "8f6cb1e4-170c-431a-9e8a-f969cb836d23"
      },
      "source": [
        "X = []\n",
        "k = 1000\n",
        "cola_obj = taller_8()\n",
        "for i in range(k):\n",
        "  t_med_cola = cola_obj.iniciar_simulacion()\n",
        "  X.append(t_med_cola)\n",
        "resultado = varianza(X)\n",
        "print(\"K = \", k)\n",
        "print(\"Promedio = \", resultado[\"promedio\"])\n",
        "print(\"Varianza = \", resultado[\"varianza\"])"
      ],
      "execution_count": 5,
      "outputs": [
        {
          "output_type": "stream",
          "text": [
            "K =  1000\n",
            "Promedio =  0.10429180354244365\n",
            "Varianza =  0.0008798253366911191\n"
          ],
          "name": "stdout"
        }
      ]
    },
    {
      "cell_type": "code",
      "metadata": {
        "id": "XVWTsbnZARvV",
        "colab_type": "code",
        "colab": {
          "base_uri": "https://localhost:8080/",
          "height": 68
        },
        "outputId": "e9ab5514-779d-40fe-b6f2-03bd55116f74"
      },
      "source": [
        "X = []\n",
        "k = 10000\n",
        "cola_obj = taller_8()\n",
        "for i in range(k):\n",
        "  t_med_cola = cola_obj.iniciar_simulacion()\n",
        "  X.append(t_med_cola)\n",
        "resultado = varianza(X)\n",
        "print(\"K = \", k)\n",
        "print(\"Promedio = \", resultado[\"promedio\"])\n",
        "print(\"Varianza = \", resultado[\"varianza\"])"
      ],
      "execution_count": 7,
      "outputs": [
        {
          "output_type": "stream",
          "text": [
            "K =  10000\n",
            "Promedio =  0.10551932401399065\n",
            "Varianza =  0.000925895633443055\n"
          ],
          "name": "stdout"
        }
      ]
    }
  ]
}