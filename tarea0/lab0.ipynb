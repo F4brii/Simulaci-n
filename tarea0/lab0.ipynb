{
  "nbformat": 4,
  "nbformat_minor": 0,
  "metadata": {
    "colab": {
      "name": "lab0.ipynb",
      "provenance": [],
      "collapsed_sections": []
    },
    "kernelspec": {
      "name": "python3",
      "display_name": "Python 3"
    }
  },
  "cells": [
    {
      "cell_type": "markdown",
      "metadata": {
        "colab_type": "text",
        "id": "zBRHo6D7xyWS"
      },
      "source": [
        "Laboratorio #0. \n",
        "Fabricio Caicedo Mosquera cod. 160003404\n"
      ]
    },
    {
      "cell_type": "markdown",
      "metadata": {
        "id": "yJNcWs2ReXey",
        "colab_type": "text"
      },
      "source": [
        "Método de montecarlo para el cálculo de áreas."
      ]
    },
    {
      "cell_type": "code",
      "metadata": {
        "id": "p71EjxO2ew3f",
        "colab_type": "code",
        "colab": {
          "base_uri": "https://localhost:8080/",
          "height": 51
        },
        "outputId": "f178f276-70f6-462f-9959-127361ba14ee"
      },
      "source": [
        "from random import uniform\n",
        "from math import exp\n",
        "\n",
        "def montecarlo(n):\n",
        "    suma = 0.0\n",
        "    for i in range(n):\n",
        "        x = uniform(0, 2)\n",
        "        y = 2 * exp(-x * x)\n",
        "        suma = suma + y\n",
        "    return suma / n\n",
        "\n",
        "\n",
        "num = int(input(\"Número de iteraciones: \"))\n",
        "area1 = montecarlo(num)\n",
        "print(\"Area: \" + str(area1))"
      ],
      "execution_count": 5,
      "outputs": [
        {
          "output_type": "stream",
          "text": [
            "Número de iteraciones: 10000\n",
            "Area: 0.8779696624452034\n"
          ],
          "name": "stdout"
        }
      ]
    },
    {
      "cell_type": "markdown",
      "metadata": {
        "id": "X5Mb0tEMeyis",
        "colab_type": "text"
      },
      "source": [
        "Compración de los metodos"
      ]
    },
    {
      "cell_type": "markdown",
      "metadata": {
        "colab_type": "text",
        "id": "KUOddPZ8yIH4"
      },
      "source": [
        "Método del trapecio para el cálculo de áreas"
      ]
    },
    {
      "cell_type": "code",
      "metadata": {
        "id": "bAA2W1Mqey0Z",
        "colab_type": "code",
        "colab": {
          "base_uri": "https://localhost:8080/",
          "height": 51
        },
        "outputId": "b8f7a694-3feb-43c7-c554-a0a08aa65056"
      },
      "source": [
        "from math import exp\n",
        "\n",
        "\n",
        "def trapecio(dx):\n",
        "    suma = 0.0\n",
        "    increment = 0.0\n",
        "    while increment <= 2:\n",
        "        increment = increment + dx\n",
        "        suma = suma + exp(-increment * increment)\n",
        "    area = (dx / 2) * (1 + 2 * suma + exp(-4))\n",
        "    return area\n",
        "\n",
        "\n",
        "dx = float(input(\"Tamaño del paso: \"))\n",
        "area2 = trapecio(dx)\n",
        "print(\"Área: \" + str(area2))"
      ],
      "execution_count": 6,
      "outputs": [
        {
          "output_type": "stream",
          "text": [
            "Tamaño del paso: 0.0001\n",
            "Área: 0.8820850530967234\n"
          ],
          "name": "stdout"
        }
      ]
    }
  ]
}